{
 "cells": [
  {
   "cell_type": "code",
   "execution_count": 6,
   "metadata": {},
   "outputs": [],
   "source": [
    "import cv2\n",
    "import numpy as np\n",
    "import os,sys\n",
    "import os.path\n",
    "import cv2, glob\n",
    "from skimage import io\n",
    "images=glob.glob(r'E:\\grid\\Wells\\*.jpg')\n",
    "\n",
    "for image in images:\n",
    "    img = io.imread(r'E:\\grid\\Ortho\\patch3_25_Ortho.tif')\n",
    "    img_gray = cv2.cvtColor(img, cv2.COLOR_RGB2GRAY)\n",
    "    template = cv2.imread(image,0)\n",
    "    w, h = template.shape[::-1]\n",
    "    \n",
    "    print (img_gray.shape)\n",
    "    r = 500.0 / img_gray.shape[1]\n",
    "    dim = (500, int(img_gray.shape[0] * r))\n",
    "    \n",
    "    resized1 = cv2.resize(img_rgb, dim, interpolation = cv2.INTER_AREA)\n",
    "    resized2 = cv2.resize(img_gray, dim, interpolation = cv2.INTER_AREA)\n",
    "    \n",
    "    \n",
    "    res = cv2.matchTemplate(resized2,template,cv2.TM_CCOEFF_NORMED)\n",
    "    threshold = 0.5\n",
    "    loc = np.where( res >= threshold)\n",
    "    \n",
    "    for pt in zip(*loc[::-1]):\n",
    "        cv2.rectangle(resized1,pt,(pt[0]+w,pt[1]+h),(0,255,255),2)\n",
    "        #cv2.imshow('detected',resized1)\n",
    "    if  a != ():\n",
    "        cv2.imshow('detected',resized1)\n",
    "        cv2.imshow('binary',binary)\n",
    "    break\n"
   ]
  },
  {
   "cell_type": "code",
   "execution_count": 2,
   "metadata": {},
   "outputs": [],
   "source": [
    "import cv2\n",
    "import numpy as np\n",
    "import os,sys\n",
    "import os.path\n",
    "import cv2, glob"
   ]
  },
  {
   "cell_type": "code",
   "execution_count": 3,
   "metadata": {},
   "outputs": [
    {
     "name": "stdout",
     "output_type": "stream",
     "text": [
      "None\n"
     ]
    }
   ],
   "source": [
    "img_rgb = cv2.imread(r'E:\\grid\\Ortho\\patch3_25_Ortho.tif')\n",
    "print(img_rgb)"
   ]
  },
  {
   "cell_type": "code",
   "execution_count": 4,
   "metadata": {},
   "outputs": [
    {
     "name": "stdout",
     "output_type": "stream",
     "text": [
      "(39657, 44134, 4)\n"
     ]
    }
   ],
   "source": [
    "from skimage import io\n",
    "img = io.imread(r'E:\\grid\\Ortho\\patch3_25_Ortho.tif')\n",
    "print(img.shape)"
   ]
  },
  {
   "cell_type": "code",
   "execution_count": 19,
   "metadata": {},
   "outputs": [
    {
     "name": "stdout",
     "output_type": "stream",
     "text": [
      "['E:\\\\grid\\\\Wells\\\\1.tif', 'E:\\\\grid\\\\Wells\\\\11.tif', 'E:\\\\grid\\\\Wells\\\\12.tif', 'E:\\\\grid\\\\Wells\\\\2.tif', 'E:\\\\grid\\\\Wells\\\\3.tif', 'E:\\\\grid\\\\Wells\\\\7.tif', 'E:\\\\grid\\\\Wells\\\\8.tif', 'E:\\\\grid\\\\Wells\\\\9.tif']\n"
     ]
    }
   ],
   "source": [
    "images=glob.glob(r'E:\\grid\\Wells\\*.tif')\n",
    "print(images)"
   ]
  },
  {
   "cell_type": "code",
   "execution_count": 3,
   "metadata": {},
   "outputs": [
    {
     "data": {
      "text/plain": [
       "True"
      ]
     },
     "execution_count": 3,
     "metadata": {},
     "output_type": "execute_result"
    }
   ],
   "source": [
    "import cv2\n",
    "import numpy as np\n",
    "import glob\n",
    "\n",
    "#empty list to store template images\n",
    "template_data=[]\n",
    "#make a list of all template images from a directory\n",
    "files1= glob.glob(r'E:\\grid\\Wells\\*.tif')\n",
    "\n",
    "for myfile in files1:\n",
    "    image = cv2.imread(myfile,0)\n",
    "    template_data.append(image)\n",
    "\n",
    "test_image=cv2.imread(r'E:\\grid\\Ortho\\123.tif',0)\n",
    "#test_image= cv2.cvtColor(test_image, cv2.COLOR_BGR2GRAY)\n",
    "\n",
    "#loop for matching\n",
    "for tmp in template_data:\n",
    "    (tH, tW) = tmp.shape[:2]\n",
    "    cv2.imshow(\"Template\", tmp)\n",
    "    cv2.waitKey(1000)\n",
    "    cv2.destroyAllWindows()\n",
    "    result = cv2.matchTemplate(test_image, tmp, cv2.TM_CCOEFF)\n",
    "    min_val, max_val, min_loc, max_loc = cv2.minMaxLoc(result)\n",
    "    top_left = max_loc\n",
    "    bottom_right = (top_left[0] + tW, top_left[1] + tH)\n",
    "    cv2.rectangle(test_image,top_left, bottom_right,255, 2)\n",
    "\n",
    "cv2.imwrite('Result.png',test_image)"
   ]
  },
  {
   "cell_type": "code",
   "execution_count": null,
   "metadata": {},
   "outputs": [],
   "source": [
    "import cv2\n",
    "import numpy as np\n",
    "\n",
    "# read image\n",
    "img = cv2.imread('01.png')\n",
    "gray = cv2.cvtColor(img, cv2.COLOR_BGR2GRAY)\n",
    "template = cv2.imread('block.png',0)\n",
    "\n",
    "# run template matching, get minimum val\n",
    "res = cv2.matchTemplate(gray, template, cv2.TM_SQDIFF_NORMED)\n",
    "min_val, max_val, min_loc, max_loc = cv2.minMaxLoc(res)\n",
    "\n",
    "# create threshold from min val, find where sqdiff is less than thresh\n",
    "min_thresh = (min_val + 1e-6) * 1.5\n",
    "match_locations = np.where(res<=min_thresh)\n",
    "\n",
    "# draw template match boxes\n",
    "w, h = template.shape[::-1]\n",
    "for (x, y) in zip(match_locations[1], match_locations[0]):\n",
    "    cv2.rectangle(img, (x, y), (x+w, y+h), [0,255,255], 2)\n",
    "\n",
    "# display result\n",
    "cv2.imshow('', img)\n",
    "cv2.waitKey(0)"
   ]
  },
  {
   "cell_type": "code",
   "execution_count": null,
   "metadata": {},
   "outputs": [],
   "source": [
    "import cv2\n",
    "import matplotlib.pyplot as plt\n",
    "import numpy as np\n",
    "\n",
    "# read the image and define the stepSize and window size \n",
    "# (width,height)\n",
    "image = cv2.imread(\"r'E:\\grid\\Ortho\\123.tif'\") # your image path\n",
    "tmp = image # for drawing a rectangle\n",
    "stepSize = 50\n",
    "(w_width, w_height) = (110, 110) # window size\n",
    "for x in range(0, image.shape[1] - w_width , stepSize):\n",
    "    for y in range(0, image.shape[0] - w_height, stepSize):\n",
    "        window = image[x:x + w_width, y:y + w_height, :]\n",
    "      \n",
    "# classify content of the window with your classifier and  \n",
    "# determine if the window includes an object (cell) or not\n",
    "      # draw window on image\n",
    "        \n",
    "        cv2.rectangle(tmp, (x, y), (x + w_width, y + w_height), (255, 0, 0), 2) # draw rectangle on image\n",
    "        plt.imshow(np.array(tmp).astype('uint8'))\n",
    "# show all windows\n",
    "plt.show()"
   ]
  },
  {
   "cell_type": "code",
   "execution_count": 8,
   "metadata": {},
   "outputs": [
    {
     "data": {
      "text/plain": [
       "-1"
      ]
     },
     "execution_count": 8,
     "metadata": {},
     "output_type": "execute_result"
    }
   ],
   "source": [
    "import imutils\n",
    "import cv2\n",
    "import numpy as np\n",
    "#Open template and get canny\n",
    "template = cv2.imread(r'E:\\grid\\Wells\\12.tif')\n",
    "template = cv2.cvtColor(template, cv2.COLOR_BGR2GRAY)\n",
    "template = cv2.Canny(template, 10, 25)\n",
    "(height, width) = template.shape[:2]\n",
    "#open the main image and convert it to gray scale image\n",
    "main_image = cv2.imread(r'E:\\grid\\Ortho\\123.tif')\n",
    "gray_image = cv2.cvtColor(main_image, cv2.COLOR_BGR2GRAY)\n",
    "temp_found = None\n",
    "for scale in np.linspace(0.2, 1.0, 20)[::-1]:\n",
    "    #resize the image and store the ratio\n",
    "    resized_img = imutils.resize(gray_image, width = int(gray_image.shape[1] * scale))\n",
    "    ratio = gray_image.shape[1] / float(resized_img.shape[1])\n",
    "    if resized_img.shape[0] < height or resized_img.shape[1] < width:\n",
    "        break\n",
    "    #Convert to edged image for checking\n",
    "    e = cv2.Canny(resized_img, 10, 25)\n",
    "    match = cv2.matchTemplate(e, template, cv2.TM_CCOEFF)\n",
    "    (_, val_max, _, loc_max) = cv2.minMaxLoc(match)\n",
    "    if temp_found is None or val_max>temp_found[0]:\n",
    "        temp_found = (val_max, loc_max, ratio)\n",
    "#Get information from temp_found to compute x,y coordinate\n",
    "(_, loc_max, r) = temp_found\n",
    "(x_start, y_start) = (int(loc_max[0]), int(loc_max[1]))\n",
    "(x_end, y_end) = (int((loc_max[0] + width)), int((loc_max[1] + height)))\n",
    "#Draw rectangle around the template\n",
    "cv2.rectangle(main_image, (x_start, y_start), (x_end, y_end), (153, 22, 0), 5)\n",
    "cv2.imshow('Template Found', main_image)\n",
    "cv2.waitKey(0)"
   ]
  },
  {
   "cell_type": "code",
   "execution_count": null,
   "metadata": {},
   "outputs": [],
   "source": []
  }
 ],
 "metadata": {
  "kernelspec": {
   "display_name": "Python 3",
   "language": "python",
   "name": "python3"
  },
  "language_info": {
   "codemirror_mode": {
    "name": "ipython",
    "version": 3
   },
   "file_extension": ".py",
   "mimetype": "text/x-python",
   "name": "python",
   "nbconvert_exporter": "python",
   "pygments_lexer": "ipython3",
   "version": "3.7.1"
  }
 },
 "nbformat": 4,
 "nbformat_minor": 2
}
