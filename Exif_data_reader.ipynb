{
 "cells": [
  {
   "cell_type": "code",
   "execution_count": 1,
   "metadata": {},
   "outputs": [],
   "source": [
    "import exifread as ef\n"
   ]
  },
  {
   "cell_type": "code",
   "execution_count": 2,
   "metadata": {},
   "outputs": [],
   "source": [
    "# barrowed from \n",
    "# https://gist.github.com/snakeye/fdc372dbf11370fe29eb \n",
    "def _convert_to_degress(value):\n",
    "    \"\"\"\n",
    "    Helper function to convert the GPS coordinates stored in the EXIF to degress in float format\n",
    "    :param value:\n",
    "    :type value: exifread.utils.Ratio\n",
    "    :rtype: float\n",
    "    \"\"\"\n",
    "    d = float(value.values[0].num) / float(value.values[0].den)\n",
    "    m = float(value.values[1].num) / float(value.values[1].den)\n",
    "    s = float(value.values[2].num) / float(value.values[2].den)\n",
    "\n",
    "    return d + (m / 60.0) + (s / 3600.0)\n",
    "\n",
    "\n",
    "\n",
    "\n",
    "\n"
   ]
  },
  {
   "cell_type": "code",
   "execution_count": 3,
   "metadata": {},
   "outputs": [],
   "source": [
    "def getGPS(filepath):\n",
    "    '''\n",
    "    returns gps data if present other wise returns empty dictionary\n",
    "    '''\n",
    "    with open(filepath, 'r') as f:\n",
    "        tags = ef.process_file(f)\n",
    "        latitude = tags.get('GPS GPSLatitude')\n",
    "        latitude_ref = tags.get('GPS GPSLatitudeRef')\n",
    "        longitude = tags.get('GPS GPSLongitude')\n",
    "        longitude_ref = tags.get('GPS GPSLongitudeRef')\n",
    "        if latitude:\n",
    "            lat_value = _convert_to_degress(latitude)\n",
    "            if latitude_ref.values != 'N':\n",
    "                lat_value = -lat_value\n",
    "        else:\n",
    "            return {}\n",
    "        if longitude:\n",
    "            lon_value = _convert_to_degress(longitude)\n",
    "            if longitude_ref.values != 'E':\n",
    "                lon_value = -lon_value\n",
    "        else:\n",
    "            return {}\n",
    "        return {'latitude': lat_value, 'longitude': lon_value}\n",
    "    return {}"
   ]
  },
  {
   "cell_type": "code",
   "execution_count": 5,
   "metadata": {},
   "outputs": [
    {
     "ename": "UnicodeDecodeError",
     "evalue": "'charmap' codec can't decode byte 0x9d in position 208: character maps to <undefined>",
     "output_type": "error",
     "traceback": [
      "\u001b[1;31m---------------------------------------------------------------------------\u001b[0m",
      "\u001b[1;31mUnicodeDecodeError\u001b[0m                        Traceback (most recent call last)",
      "\u001b[1;32m<ipython-input-5-aa15c910c1b3>\u001b[0m in \u001b[0;36m<module>\u001b[1;34m\u001b[0m\n\u001b[0;32m      1\u001b[0m \u001b[0mfile_path\u001b[0m \u001b[1;33m=\u001b[0m \u001b[1;34m'E:/30_images/1DJI_0003.JPG'\u001b[0m\u001b[1;33m\u001b[0m\u001b[1;33m\u001b[0m\u001b[0m\n\u001b[1;32m----> 2\u001b[1;33m \u001b[0mgps\u001b[0m \u001b[1;33m=\u001b[0m \u001b[0mgetGPS\u001b[0m\u001b[1;33m(\u001b[0m\u001b[0mfile_path\u001b[0m\u001b[1;33m)\u001b[0m\u001b[1;33m\u001b[0m\u001b[1;33m\u001b[0m\u001b[0m\n\u001b[0m\u001b[0;32m      3\u001b[0m \u001b[0mprint\u001b[0m \u001b[1;33m(\u001b[0m\u001b[0mgps\u001b[0m\u001b[1;33m)\u001b[0m\u001b[1;33m\u001b[0m\u001b[1;33m\u001b[0m\u001b[0m\n",
      "\u001b[1;32m<ipython-input-3-be31aff6e1a2>\u001b[0m in \u001b[0;36mgetGPS\u001b[1;34m(filepath)\u001b[0m\n\u001b[0;32m      4\u001b[0m     '''\n\u001b[0;32m      5\u001b[0m     \u001b[1;32mwith\u001b[0m \u001b[0mopen\u001b[0m\u001b[1;33m(\u001b[0m\u001b[0mfilepath\u001b[0m\u001b[1;33m,\u001b[0m \u001b[1;34m'r'\u001b[0m\u001b[1;33m)\u001b[0m \u001b[1;32mas\u001b[0m \u001b[0mf\u001b[0m\u001b[1;33m:\u001b[0m\u001b[1;33m\u001b[0m\u001b[1;33m\u001b[0m\u001b[0m\n\u001b[1;32m----> 6\u001b[1;33m         \u001b[0mtags\u001b[0m \u001b[1;33m=\u001b[0m \u001b[0mef\u001b[0m\u001b[1;33m.\u001b[0m\u001b[0mprocess_file\u001b[0m\u001b[1;33m(\u001b[0m\u001b[0mf\u001b[0m\u001b[1;33m)\u001b[0m\u001b[1;33m\u001b[0m\u001b[1;33m\u001b[0m\u001b[0m\n\u001b[0m\u001b[0;32m      7\u001b[0m         \u001b[0mlatitude\u001b[0m \u001b[1;33m=\u001b[0m \u001b[0mtags\u001b[0m\u001b[1;33m.\u001b[0m\u001b[0mget\u001b[0m\u001b[1;33m(\u001b[0m\u001b[1;34m'GPS GPSLatitude'\u001b[0m\u001b[1;33m)\u001b[0m\u001b[1;33m\u001b[0m\u001b[1;33m\u001b[0m\u001b[0m\n\u001b[0;32m      8\u001b[0m         \u001b[0mlatitude_ref\u001b[0m \u001b[1;33m=\u001b[0m \u001b[0mtags\u001b[0m\u001b[1;33m.\u001b[0m\u001b[0mget\u001b[0m\u001b[1;33m(\u001b[0m\u001b[1;34m'GPS GPSLatitudeRef'\u001b[0m\u001b[1;33m)\u001b[0m\u001b[1;33m\u001b[0m\u001b[1;33m\u001b[0m\u001b[0m\n",
      "\u001b[1;32mC:\\Anaconda3\\lib\\site-packages\\exifread\\__init__.py\u001b[0m in \u001b[0;36mprocess_file\u001b[1;34m(f, stop_tag, details, strict, debug)\u001b[0m\n\u001b[0;32m     29\u001b[0m \u001b[1;33m\u001b[0m\u001b[0m\n\u001b[0;32m     30\u001b[0m     \u001b[1;31m# determine whether it's a JPEG or TIFF\u001b[0m\u001b[1;33m\u001b[0m\u001b[1;33m\u001b[0m\u001b[1;33m\u001b[0m\u001b[0m\n\u001b[1;32m---> 31\u001b[1;33m     \u001b[0mdata\u001b[0m \u001b[1;33m=\u001b[0m \u001b[0mf\u001b[0m\u001b[1;33m.\u001b[0m\u001b[0mread\u001b[0m\u001b[1;33m(\u001b[0m\u001b[1;36m12\u001b[0m\u001b[1;33m)\u001b[0m\u001b[1;33m\u001b[0m\u001b[1;33m\u001b[0m\u001b[0m\n\u001b[0m\u001b[0;32m     32\u001b[0m     \u001b[1;32mif\u001b[0m \u001b[0mdata\u001b[0m\u001b[1;33m[\u001b[0m\u001b[1;36m0\u001b[0m\u001b[1;33m:\u001b[0m\u001b[1;36m4\u001b[0m\u001b[1;33m]\u001b[0m \u001b[1;32min\u001b[0m \u001b[1;33m[\u001b[0m\u001b[1;34mb'II*\\x00'\u001b[0m\u001b[1;33m,\u001b[0m \u001b[1;34mb'MM\\x00*'\u001b[0m\u001b[1;33m]\u001b[0m\u001b[1;33m:\u001b[0m\u001b[1;33m\u001b[0m\u001b[1;33m\u001b[0m\u001b[0m\n\u001b[0;32m     33\u001b[0m         \u001b[1;31m# it's a TIFF file\u001b[0m\u001b[1;33m\u001b[0m\u001b[1;33m\u001b[0m\u001b[1;33m\u001b[0m\u001b[0m\n",
      "\u001b[1;32mC:\\Anaconda3\\lib\\encodings\\cp1252.py\u001b[0m in \u001b[0;36mdecode\u001b[1;34m(self, input, final)\u001b[0m\n\u001b[0;32m     21\u001b[0m \u001b[1;32mclass\u001b[0m \u001b[0mIncrementalDecoder\u001b[0m\u001b[1;33m(\u001b[0m\u001b[0mcodecs\u001b[0m\u001b[1;33m.\u001b[0m\u001b[0mIncrementalDecoder\u001b[0m\u001b[1;33m)\u001b[0m\u001b[1;33m:\u001b[0m\u001b[1;33m\u001b[0m\u001b[1;33m\u001b[0m\u001b[0m\n\u001b[0;32m     22\u001b[0m     \u001b[1;32mdef\u001b[0m \u001b[0mdecode\u001b[0m\u001b[1;33m(\u001b[0m\u001b[0mself\u001b[0m\u001b[1;33m,\u001b[0m \u001b[0minput\u001b[0m\u001b[1;33m,\u001b[0m \u001b[0mfinal\u001b[0m\u001b[1;33m=\u001b[0m\u001b[1;32mFalse\u001b[0m\u001b[1;33m)\u001b[0m\u001b[1;33m:\u001b[0m\u001b[1;33m\u001b[0m\u001b[1;33m\u001b[0m\u001b[0m\n\u001b[1;32m---> 23\u001b[1;33m         \u001b[1;32mreturn\u001b[0m \u001b[0mcodecs\u001b[0m\u001b[1;33m.\u001b[0m\u001b[0mcharmap_decode\u001b[0m\u001b[1;33m(\u001b[0m\u001b[0minput\u001b[0m\u001b[1;33m,\u001b[0m\u001b[0mself\u001b[0m\u001b[1;33m.\u001b[0m\u001b[0merrors\u001b[0m\u001b[1;33m,\u001b[0m\u001b[0mdecoding_table\u001b[0m\u001b[1;33m)\u001b[0m\u001b[1;33m[\u001b[0m\u001b[1;36m0\u001b[0m\u001b[1;33m]\u001b[0m\u001b[1;33m\u001b[0m\u001b[1;33m\u001b[0m\u001b[0m\n\u001b[0m\u001b[0;32m     24\u001b[0m \u001b[1;33m\u001b[0m\u001b[0m\n\u001b[0;32m     25\u001b[0m \u001b[1;32mclass\u001b[0m \u001b[0mStreamWriter\u001b[0m\u001b[1;33m(\u001b[0m\u001b[0mCodec\u001b[0m\u001b[1;33m,\u001b[0m\u001b[0mcodecs\u001b[0m\u001b[1;33m.\u001b[0m\u001b[0mStreamWriter\u001b[0m\u001b[1;33m)\u001b[0m\u001b[1;33m:\u001b[0m\u001b[1;33m\u001b[0m\u001b[1;33m\u001b[0m\u001b[0m\n",
      "\u001b[1;31mUnicodeDecodeError\u001b[0m: 'charmap' codec can't decode byte 0x9d in position 208: character maps to <undefined>"
     ]
    }
   ],
   "source": [
    "file_path = 'E:/30_images/1DJI_0003.JPG'    \n",
    "gps = getGPS(file_path)\n",
    "print (gps)"
   ]
  },
  {
   "cell_type": "code",
   "execution_count": 8,
   "metadata": {},
   "outputs": [],
   "source": [
    "from GPSPhoto import gpsphoto"
   ]
  },
  {
   "cell_type": "code",
   "execution_count": 31,
   "metadata": {},
   "outputs": [
    {
     "name": "stdout",
     "output_type": "stream",
     "text": [
      "26.480662027777775 80.31287147222221\n",
      "{'Latitude': 26.480662027777775, 'Longitude': 80.31287147222221, 'Altitude': 343.566}\n"
     ]
    }
   ],
   "source": [
    "\n",
    "# Get the data from image file\n",
    "data = gpsphoto.getGPSData('E:/30_images/1DJI_0003.JPG')\n",
    "print(data['Latitude'], data['Longitude'])\n",
    "print(data)\n"
   ]
  },
  {
   "cell_type": "code",
   "execution_count": 12,
   "metadata": {},
   "outputs": [],
   "source": [
    "import glob\n",
    "import cv2"
   ]
  },
  {
   "cell_type": "code",
   "execution_count": 25,
   "metadata": {},
   "outputs": [],
   "source": [
    "\n",
    "cv_img = []\n",
    "for img in glob.glob(\"E:/30_images/*.jpg\"):\n",
    "    data = gpsphoto.getGPSData(img)\n",
    "    \n",
    "    cv_img.append((data['Latitude'], data['Longitude']))"
   ]
  },
  {
   "cell_type": "code",
   "execution_count": 26,
   "metadata": {},
   "outputs": [
    {
     "name": "stdout",
     "output_type": "stream",
     "text": [
      "[(26.480662027777775, 80.31287147222221), (26.480666749999997, 80.31308497222221), (26.48066986111111, 80.31330222222222), (26.480672027777775, 80.31352194444445), (26.480676027777776, 80.31373530555555), (26.480678972222222, 80.31395116666667), (26.480682055555555, 80.31416563888888), (26.480686777777777, 80.31438397222222), (26.480691055555553, 80.31471141666667), (26.480693777777777, 80.31482247222222), (26.480696777777776, 80.31504161111111), (26.480700388888888, 80.31537058333333), (26.48070275, 80.31548086111111), (26.48070744444444, 80.31569927777778), (26.480711194444442, 80.31591813888889), (26.48071413888889, 80.31613658333333), (26.480722583333332, 80.31646677777778), (26.480726277777777, 80.31668661111111), (26.480729194444443, 80.31690633333334), (26.480732277777776, 80.31712433333333), (26.480732805555554, 80.3172351111111), (26.480739055555553, 80.31756652777777), (26.480741, 80.31778358333332), (26.480744805555553, 80.31800288888888), (26.480747694444442, 80.31822055555556), (26.480750277777776, 80.31843927777777), (26.480753, 80.31855141666666), (26.480758444444444, 80.31887919444443), (26.480762749999997, 80.31909866666666), (26.480766944444444, 80.31931727777777)]\n"
     ]
    }
   ],
   "source": [
    "print(cv_img)"
   ]
  },
  {
   "cell_type": "code",
   "execution_count": 21,
   "metadata": {},
   "outputs": [
    {
     "ename": "SyntaxError",
     "evalue": "invalid syntax (<ipython-input-21-4280b61fcdc7>, line 4)",
     "output_type": "error",
     "traceback": [
      "\u001b[1;36m  File \u001b[1;32m\"<ipython-input-21-4280b61fcdc7>\"\u001b[1;36m, line \u001b[1;32m4\u001b[0m\n\u001b[1;33m    kml.save(\"botanicalgarden.kml\")\u001b[0m\n\u001b[1;37m      ^\u001b[0m\n\u001b[1;31mSyntaxError\u001b[0m\u001b[1;31m:\u001b[0m invalid syntax\n"
     ]
    }
   ],
   "source": [
    "import simplekml\n",
    "kml = simplekml.Kml()\n",
    "kml.newpoint(name=\"Kirstenbosch\", coords=cv_img  # lon, lat, optional height\n",
    "kml.save(\"botanicalgarden.kml\")"
   ]
  },
  {
   "cell_type": "code",
   "execution_count": 18,
   "metadata": {},
   "outputs": [],
   "source": [
    "import simplekml\n",
    "kml = simplekml.Kml()\n",
    "kml.newpoint(name=\"Kirstenbosch\", coords=[(18.432314,-33.988862)])  # lon, lat, optional height\n",
    "kml.save(\"botanicalgarden.kml\")"
   ]
  },
  {
   "cell_type": "code",
   "execution_count": 27,
   "metadata": {},
   "outputs": [],
   "source": [
    "import simplekml"
   ]
  },
  {
   "cell_type": "code",
   "execution_count": 30,
   "metadata": {},
   "outputs": [],
   "source": [
    "kml = simplekml.Kml(open=1) # the folder will be open in the table of contents\n",
    "\n",
    "# Create an instance of Kml\n",
    "kml = simplekml.Kml(open=1)\n",
    "\n",
    "# Create a point named \"The World\" attached to the KML document with its coordinate at 0 degrees latitude and longitude.\n",
    "# All the point's properties are given when it is constructed.\n",
    "single_point = kml.newpoint(name=\"The World\", coords=[(0.0,0.0)])\n",
    "\n",
    "# Create a point for each city. The points' properties are assigned after the point is created\n",
    "for lat, lon in cv_img:\n",
    "    pnt = kml.newpoint()\n",
    "    #pnt.name = city\n",
    "    #pnt.description = \"Time corresponding to 12:00 noon, Eastern Standard Time: {0}\".format(time)\n",
    "    pnt.coords = [(lon, lat)]\n",
    "\n",
    "# Save the KML\n",
    "kml.save(\"T00 Point123.kml\")"
   ]
  },
  {
   "cell_type": "code",
   "execution_count": null,
   "metadata": {},
   "outputs": [],
   "source": [
    "for lat, lon in cv_img:\n",
    "    pnt = kml.newpoint()\n",
    "    pnt.name = city\n",
    "    pnt.description = \"Time corresponding to 12:00 noon, Eastern Standard Time: {0}\".format(time)\n",
    "    pnt.coords = [(lon, lat)]"
   ]
  }
 ],
 "metadata": {
  "kernelspec": {
   "display_name": "Python 3",
   "language": "python",
   "name": "python3"
  },
  "language_info": {
   "codemirror_mode": {
    "name": "ipython",
    "version": 3
   },
   "file_extension": ".py",
   "mimetype": "text/x-python",
   "name": "python",
   "nbconvert_exporter": "python",
   "pygments_lexer": "ipython3",
   "version": "3.7.1"
  }
 },
 "nbformat": 4,
 "nbformat_minor": 2
}
