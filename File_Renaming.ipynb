{
 "cells": [
  {
   "cell_type": "code",
   "execution_count": 2,
   "metadata": {},
   "outputs": [
    {
     "name": "stdout",
     "output_type": "stream",
     "text": [
      "D://SEGMENTATION_PYTORCH//FCN//Dataset\\masks\n"
     ]
    }
   ],
   "source": [
    "import os\n",
    "\n",
    "path = os.getcwd()\n",
    "\n",
    "# path to the data folder\n",
    "data_path = 'D://SEGMENTATION_PYTORCH//FCN//Dataset'\n",
    "data_dir = 'masks'  #This should be folder name under data_path directory\n",
    "data_list = os.listdir(os.path.join(data_path,data_dir))\n",
    "\n",
    "print (os.path.join(data_path,data_dir))\n",
    "os.chdir(os.path.join(data_path,data_dir))\n",
    "# The base name of image files\n",
    "base_name=data_dir\n",
    "for i in range(len(data_list)):\n",
    "    img_name = data_list[i]\n",
    "#    img_rename = base_name + '_{}'.format(i+1)+'.png' # here the file name is base_name_1.png\n",
    "    img_rename = '{:01d}'.format(i)+'.png' # here the file name is base_name_000001.png\n",
    "    if not os.path.exists(img_rename):\n",
    "        os.rename(img_name,img_rename)\n",
    "    \n",
    "os.chdir(path)"
   ]
  },
  {
   "cell_type": "code",
   "execution_count": null,
   "metadata": {},
   "outputs": [],
   "source": []
  }
 ],
 "metadata": {
  "kernelspec": {
   "display_name": "Python 3",
   "language": "python",
   "name": "python3"
  },
  "language_info": {
   "codemirror_mode": {
    "name": "ipython",
    "version": 3
   },
   "file_extension": ".py",
   "mimetype": "text/x-python",
   "name": "python",
   "nbconvert_exporter": "python",
   "pygments_lexer": "ipython3",
   "version": "3.7.1"
  }
 },
 "nbformat": 4,
 "nbformat_minor": 2
}
